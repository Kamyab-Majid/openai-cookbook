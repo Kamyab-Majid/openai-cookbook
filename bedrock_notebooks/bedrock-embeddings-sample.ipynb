{
 "cells": [
  {
   "cell_type": "markdown",
   "id": "a15f81e3-0976-4ff7-8ae1-ddb5fbdf1d94",
   "metadata": {},
   "source": [
    "# Introduction to Bedrock - Building with Bedrock Embeddings"
   ]
  },
  {
   "cell_type": "markdown",
   "id": "22118967-7d3e-49d1-90ef-1f0ac2942e7c",
   "metadata": {},
   "source": [
    "In this demo notebook, we demonstrate how to use the Bedrock Python SDK for Embeddings Generation."
   ]
  },
  {
   "cell_type": "markdown",
   "id": "928b0f06-7035-44c2-8f3f-2c0f48ffa093",
   "metadata": {},
   "source": [
    "1. [Set Up](#1.-Set-Up)\n",
    "2. [Embeddings Generation](#2.-Embeddings-Generation)\n",
    "3. [Semantic Similarity](#3.-Semantic-Similarity)"
   ]
  },
  {
   "cell_type": "markdown",
   "id": "e54a273a-ebf6-4337-8ec9-6520ad3597a3",
   "metadata": {
    "tags": []
   },
   "source": [
    "Note: This notebook was tested in Amazon SageMaker Studio with Python 3 (Data Science 2.0) kernel."
   ]
  },
  {
   "cell_type": "markdown",
   "id": "bc708a77-1dc2-4032-8a8c-5a85b6111dee",
   "metadata": {},
   "source": [
    "### 1. Set Up"
   ]
  },
  {
   "cell_type": "markdown",
   "id": "c11d790c-6f24-4642-b86c-a0dfe5b7ed59",
   "metadata": {},
   "source": [
    "---\n",
    "Before executing the notebook for the first time, execute this cell to add bedrock extensions to the Python boto3 SDK\n",
    "\n",
    "---"
   ]
  },
  {
   "attachments": {},
   "cell_type": "markdown",
   "id": "0811204b",
   "metadata": {},
   "source": [
    "Install the aws CLI from the folder."
   ]
  },
  {
   "cell_type": "code",
   "execution_count": 7,
   "id": "14fdf603-a8a9-4888-92b8-b1eca9cc2aa0",
   "metadata": {
    "tags": []
   },
   "outputs": [
    {
     "name": "stdout",
     "output_type": "stream",
     "text": [
      "Requirement already satisfied: pip in c:\\users\\majid.kamyab\\anaconda3\\envs\\ai\\lib\\site-packages (23.1.2)\n",
      "Note: you may need to restart the kernel to use updated packages.\n",
      "Processing c:\\users\\majid.kamyab\\desktop\\git_repos\\openai-cookbook\\bedrock-python-sdk\\boto3-1.26.142-py3-none-any.whl\n",
      "Collecting s3transfer<0.7.0,>=0.6.0\n",
      "  Using cached s3transfer-0.6.1-py3-none-any.whl (79 kB)\n",
      "Collecting botocore<1.30.0,>=1.29.142\n",
      "  Using cached botocore-1.29.165-py3-none-any.whl (11.0 MB)\n",
      "Collecting jmespath<2.0.0,>=0.7.1\n",
      "  Using cached jmespath-1.0.1-py3-none-any.whl (20 kB)\n",
      "Collecting python-dateutil<3.0.0,>=2.1\n",
      "  Using cached python_dateutil-2.8.2-py2.py3-none-any.whl (247 kB)\n",
      "Collecting urllib3<1.27,>=1.25.4\n",
      "  Using cached urllib3-1.26.16-py2.py3-none-any.whl (143 kB)\n",
      "Collecting six>=1.5\n",
      "  Using cached six-1.16.0-py2.py3-none-any.whl (11 kB)\n",
      "Installing collected packages: urllib3, six, jmespath, python-dateutil, botocore, s3transfer, boto3\n",
      "  Attempting uninstall: urllib3\n",
      "    Found existing installation: urllib3 1.26.16\n",
      "    Uninstalling urllib3-1.26.16:\n",
      "      Successfully uninstalled urllib3-1.26.16\n",
      "  Attempting uninstall: six\n",
      "    Found existing installation: six 1.16.0\n",
      "    Uninstalling six-1.16.0:\n",
      "      Successfully uninstalled six-1.16.0\n",
      "  Attempting uninstall: jmespath\n",
      "    Found existing installation: jmespath 1.0.1\n",
      "    Uninstalling jmespath-1.0.1:\n",
      "      Successfully uninstalled jmespath-1.0.1\n",
      "  Attempting uninstall: python-dateutil\n",
      "    Found existing installation: python-dateutil 2.8.2\n",
      "    Uninstalling python-dateutil-2.8.2:\n",
      "      Successfully uninstalled python-dateutil-2.8.2\n",
      "  Attempting uninstall: botocore\n",
      "    Found existing installation: botocore 1.29.142\n",
      "    Uninstalling botocore-1.29.142:\n",
      "      Successfully uninstalled botocore-1.29.142\n",
      "  Attempting uninstall: s3transfer\n",
      "    Found existing installation: s3transfer 0.6.1\n",
      "    Uninstalling s3transfer-0.6.1:\n",
      "      Successfully uninstalled s3transfer-0.6.1\n",
      "  Attempting uninstall: boto3\n",
      "    Found existing installation: boto3 1.26.142\n",
      "    Uninstalling boto3-1.26.142:\n",
      "      Successfully uninstalled boto3-1.26.142\n",
      "Successfully installed boto3-1.26.142 botocore-1.29.165 jmespath-1.0.1 python-dateutil-2.8.2 s3transfer-0.6.1 six-1.16.0 urllib3-1.26.16\n"
     ]
    },
    {
     "name": "stderr",
     "output_type": "stream",
     "text": [
      "\n",
      "[notice] A new release of pip is available: 23.0.1 -> 23.1.2\n",
      "[notice] To update, run: C:\\Users\\Majid.Kamyab\\AppData\\Local\\Microsoft\\WindowsApps\\PythonSoftwareFoundation.Python.3.10_qbz5n2kfra8p0\\python.exe -m pip install --upgrade pip\n"
     ]
    },
    {
     "name": "stdout",
     "output_type": "stream",
     "text": [
      "Processing c:\\users\\majid.kamyab\\desktop\\git_repos\\openai-cookbook\\bedrock-python-sdk\\botocore-1.29.142-py3-none-any.whl\n",
      "Collecting urllib3<1.27,>=1.25.4\n",
      "  Using cached urllib3-1.26.16-py2.py3-none-any.whl (143 kB)\n",
      "Collecting python-dateutil<3.0.0,>=2.1\n",
      "  Using cached python_dateutil-2.8.2-py2.py3-none-any.whl (247 kB)\n",
      "Collecting jmespath<2.0.0,>=0.7.1\n",
      "  Using cached jmespath-1.0.1-py3-none-any.whl (20 kB)\n",
      "Collecting six>=1.5\n",
      "  Using cached six-1.16.0-py2.py3-none-any.whl (11 kB)\n",
      "Installing collected packages: urllib3, six, jmespath, python-dateutil, botocore\n",
      "  Attempting uninstall: urllib3\n",
      "    Found existing installation: urllib3 1.26.16\n",
      "    Uninstalling urllib3-1.26.16:\n",
      "      Successfully uninstalled urllib3-1.26.16\n",
      "  Attempting uninstall: six\n",
      "    Found existing installation: six 1.16.0\n",
      "    Uninstalling six-1.16.0:\n",
      "      Successfully uninstalled six-1.16.0\n",
      "  Attempting uninstall: jmespath\n",
      "    Found existing installation: jmespath 1.0.1\n",
      "    Uninstalling jmespath-1.0.1:\n",
      "      Successfully uninstalled jmespath-1.0.1\n",
      "  Attempting uninstall: python-dateutil\n",
      "    Found existing installation: python-dateutil 2.8.2\n",
      "    Uninstalling python-dateutil-2.8.2:\n",
      "      Successfully uninstalled python-dateutil-2.8.2\n",
      "  Attempting uninstall: botocore\n",
      "    Found existing installation: botocore 1.29.165\n",
      "    Uninstalling botocore-1.29.165:\n",
      "      Successfully uninstalled botocore-1.29.165\n",
      "Successfully installed botocore-1.29.142 jmespath-1.0.1 python-dateutil-2.8.2 six-1.16.0 urllib3-1.26.16\n"
     ]
    },
    {
     "name": "stderr",
     "output_type": "stream",
     "text": [
      "\n",
      "[notice] A new release of pip is available: 23.0.1 -> 23.1.2\n",
      "[notice] To update, run: C:\\Users\\Majid.Kamyab\\AppData\\Local\\Microsoft\\WindowsApps\\PythonSoftwareFoundation.Python.3.10_qbz5n2kfra8p0\\python.exe -m pip install --upgrade pip\n"
     ]
    }
   ],
   "source": [
    "\n",
    "%pip install --upgrade pip\n",
    "!python3 -m pip install bedrock-python-sdk/boto3-1.26.142-py3-none-any.whl --force-reinstall\n",
    "!python3 -m pip install bedrock-python-sdk/botocore-1.29.142-py3-none-any.whl --force-reinstall"
   ]
  },
  {
   "cell_type": "markdown",
   "id": "c5530b40-b6df-4f51-a862-025ded60d513",
   "metadata": {},
   "source": [
    "Let's initialize the boto3 client to use Bedrock"
   ]
  },
  {
   "cell_type": "code",
   "execution_count": 1,
   "id": "14d82998-f5d1-4624-a54f-f9d04422b8d4",
   "metadata": {
    "tags": []
   },
   "outputs": [],
   "source": [
    "import boto3\n",
    "import json\n",
    "session = boto3.Session(profile_name='sandbox')\n",
    "bedrock = session.client(\n",
    " service_name='bedrock',\n",
    " region_name='us-east-1' \n",
    ")"
   ]
  },
  {
   "cell_type": "markdown",
   "id": "dd8e292d-32b2-49ce-b1fb-066b70cc5cde",
   "metadata": {},
   "source": [
    "Lets test the endpoint to see what models are available"
   ]
  },
  {
   "cell_type": "markdown",
   "id": "ebec00d8-8af4-49c1-8566-0fd865f6810d",
   "metadata": {
    "tags": []
   },
   "source": [
    "### 2. Embeddings Generation"
   ]
  },
  {
   "cell_type": "markdown",
   "id": "e2f5f862-9a08-4c85-a789-e34ff85cb69c",
   "metadata": {},
   "source": [
    "Embeddings are a key concept in generative AI and machine learning in general. An embedding is a representation of an object (like a word, image, video, etc.) in a vector space. Typically, semantically similar objects will have embeddings that are close together in the vector space. These are very powerful for use-cases like semantic search, recommendations and Classifications."
   ]
  },
  {
   "cell_type": "code",
   "execution_count": 40,
   "id": "ffa25857-9999-473d-843a-671b568451ab",
   "metadata": {
    "tags": []
   },
   "outputs": [
    {
     "name": "stdout",
     "output_type": "stream",
     "text": [
      "[{'tokenCount': 12, 'outputText': 'def test_dataquality_check(self):\\n    pass', 'completionReason': None}]\n"
     ]
    }
   ],
   "source": [
    "# We will be using the Titan Embeddings Model to generate our Embeddings.\n",
    "\n",
    "def get_embedding(body, modelId, accept, contentType):\n",
    "    response = bedrock.invoke_model(body=body, modelId=modelId, accept=accept, contentType=contentType)\n",
    "    response_body = json.loads(response.get('body').read())\n",
    "    return response_body\n",
    "body = json.dumps({\"inputText\":\"\"\"give me a unit test for this function     def __init__(\\n        self,\\n        source_df: DataFrame,\\n        spark_context: SparkSession,\\n        config_path: str,\\n        file_name: str,\\n        src_system: str,\\n    ) -> None:\\n        \\\"\\\"\\\"\\n        Initializes the DataCheck class.\\n\\n        Args:\\n            source_df (DataFrame): The source DataFrame to be checked.\\n            spark_context (SparkSession): The SparkSession object.\\n            config_path (str): The path to the configuration file.\\n            file_name (str): The name of the file to be checked.\\n            src_system (str): The source system identifier.\\n\\n        Attributes:\\n            spark (SparkSession): The SparkSession object.\\n            source_df (DataFrame): The source DataFrame to be checked.\\n            error_df (DataFrame): The DataFrame containing errors.\\n            error_columns (List[str]): The list of error columns.\\n            error_counter (int): The error counter.\\n            schema_dict (Dict[str, type]): The dictionary of schema types.\\n            s3_client (boto3.client): The S3 client object.\\n            s3_resource (boto3.resource): The S3 resource object.\\n            config (Dict): The configuration dictionary.\\n            rule_df (pd.DataFrame): The DataFrame containing data quality rules.\\n            file_name (str): The name of the file to be checked.\\n            input_columns (List[str]): The list of input columns.\\n            output_columns (str): The output columns.\\n            sns_message (List[str]): The list of SNS messages.\\n        \\\"\\\"\\\"\\n        self.spark = spark_context\\n        self.source_df = source_df\\n        self.error_df = None\\n        self.error_columns = []\\n        self.error_counter = 0\\n        self.schema_dict = {\\n            \\\"StringType\\\": StringType,\\n            \\\"DateType\\\": DateType,\\n            \\\"IntegerType\\\": IntegerType,\\n            \\\"FloatType\\\": FloatType,\\n            \\\"DoubleType\\\": DoubleType,\\n        }\\n        self.s3_client = boto3.client(\\\"s3\\\")\\n        self.s3_resource = boto3.resource(\\\"s3\\\")\\n\\n        # Initial configuration\\n        config_content = self.read_s3_file(config_path).decode()\\n        self.config = self.resolve_config(config_path.replace(\\\"config.json\\\", \\\"env.json\\\"), json.loads(config_content))\\n\\n        dq_rule_path = self.config[src_system][\\\"dq_rule_path\\\"]\\n        # dq_rule_content = self.read_s3_file(dq_rule_path)\\n        self.rule_df = pd.read_csv(dq_rule_path, index_col=\\\"column_name\\\")\\n        self.file_name = file_name\\n        self.rule_df = self.rule_df[(self.rule_df[\\\"file_name\\\"] == self.file_name)]\\n        self.rule_df = self.rule_df.applymap(lambda x: x if x else np.nan)\\n        self.rule_df.sort_index(inplace=True)\\n        self.sns_message = []\\n        \\n        self.input_columns = self.source_df.columns\\n        try:\\n            self.output_columns = self.config[src_system][\\\"sources\\\"][self.file_name][\\\"dq_output_columns\\\"]\\n        except:\\n            self.output_columns= 'Patient Number'\\n        for index in range(len(self.input_columns)):\\n            if \\\".\\\" in self.input_columns[index]:\\n                self.input_columns[index] = \\\"`\\\" + self.input_columns[index] + \\\"`\\\"\\n\\n        missed_columns = set(self.input_columns) - set(self.rule_df.index)\\n        if len(missed_columns) > 0:\\n            logger.warning(f\\\"[{missed_columns}] are not found in the rule file.\\\")\\n\\n        self.spark.conf.set(\\\"spark.sql.legacy.timeParserPolicy\\\", \\\"LEGACY\\\")\\n        # self.spark.conf.set(\\\"spark.sql.legacy.timeParserPolicy\\\", \\\"CORRECTED\\\")\\n        self.spark.conf.set(\\\"spark.sql.adaptive.enabled\\\", True)\\n        self.spark.conf.set(\\\"spark.sql.adaptive.coalescePartitions.enabled\\\", True)\\n\"\"\"})\n",
    "modelId = 'amazon.titan-tg1-large'\n",
    "accept = 'application/json'\n",
    "contentType = 'application/json'\n",
    "# body = json.dumps({\"inputText\": \"explain black holes to 8th graders\"})\n",
    "# modelId = 'amazon.titan-e1t-medium'\n",
    "# accept = 'application/json'\n",
    "# contentType = 'application/json'\n",
    "\n",
    "embedding = get_embedding(body, modelId, accept, contentType)\n",
    "print(embedding['results'])"
   ]
  },
  {
   "cell_type": "code",
   "execution_count": 43,
   "id": "36b3ce34",
   "metadata": {},
   "outputs": [
    {
     "data": {
      "text/plain": [
       "{'inputTextTokenCount': 988,\n",
       " 'results': [{'tokenCount': 12,\n",
       "   'outputText': 'def test_dataquality_check(self):\\n    pass',\n",
       "   'completionReason': None}]}"
      ]
     },
     "execution_count": 43,
     "metadata": {},
     "output_type": "execute_result"
    }
   ],
   "source": [
    "embedding"
   ]
  },
  {
   "cell_type": "markdown",
   "id": "95c4cbba-ccc5-42d4-a18f-13cad7db0be9",
   "metadata": {},
   "source": [
    "### 3. Semantic Similarity"
   ]
  },
  {
   "cell_type": "markdown",
   "id": "77e28177-e635-4299-947d-cb400e71cadd",
   "metadata": {},
   "source": [
    "A use case of sentence embedding is to cluster together sentences with similar semantic meaning.  In the example below we compute the embeddings of sentences in three categories: pets, cities in the U.S., and color.  We see that sentences originating from the same category have much closer embedding vectors than those from different categories.  Specifically, the code will do the following:\n",
    "The Bedrock embedding API will output an embedding vector for each sentence;  The distance between any pair of sentences is computed by the cosine similarity of corresponded embedding vectors;A heatmap is created to visualize the distance between any pair of sentences in the embedding space. Darker the color, larger the cosine similarity (smaller the distance).\n",
    "Note. Cosine similarity of two vectors is  the inner product of the normalized vectors (scale down to have length 1)."
   ]
  },
  {
   "cell_type": "code",
   "execution_count": 3,
   "id": "b29256dc-f38e-44a1-842f-af47750c5fa1",
   "metadata": {
    "tags": []
   },
   "outputs": [
    {
     "data": {
      "image/png": "[encoded data removed]",
      "text/plain": [
       "<Figure size 640x480 with 2 Axes>"
      ]
     },
     "metadata": {},
     "output_type": "display_data"
    }
   ],
   "source": [
    "import sklearn\n",
    "from sklearn.preprocessing import normalize\n",
    "import numpy as np\n",
    "import seaborn as sns\n",
    "\n",
    "\n",
    "def plot_similarity_heatmap(text_labels, embeddings, rotation):\n",
    "    \"\"\"Takes sentences, embeddings and rotation as input and plot similarity heat map.\n",
    "\n",
    "    Args:\n",
    "      text_labels: a list of sentences to compute semantic textual similarity search.\n",
    "      embeddings: a list of embedding vectors, each of which corresponds to a sentence.\n",
    "      rotation: rotation used for display of the text_labels.\n",
    "    \"\"\"\n",
    "    inner_product = np.inner(embeddings, embeddings)\n",
    "    sns.set(font_scale=1.1)\n",
    "    graph = sns.heatmap(\n",
    "        inner_product,\n",
    "        xticklabels=text_labels,\n",
    "        yticklabels=text_labels,\n",
    "        vmin=np.min(inner_product),\n",
    "        vmax=1,\n",
    "        cmap=\"OrRd\",\n",
    "    )\n",
    "    graph.set_xticklabels(text_labels, rotation=rotation)\n",
    "    graph.set_title(\"Semantic Textual Similarity Between Sentences\")\n",
    "\n",
    "\n",
    "sentences = [\n",
    "    # Pets\n",
    "    \"Your dog is so cute.\",\n",
    "    \"How cute your dog is!\",\n",
    "    \"You have such a cute dog!\",\n",
    "    # Cities in the US\n",
    "    \"New York City is the place where I work.\",\n",
    "    \"I work in New York City.\",\n",
    "    # Color\n",
    "    \"What color do you like the most?\",\n",
    "    \"What is your favourite color?\",\n",
    "]\n",
    "\n",
    "embeddings = []\n",
    "\n",
    "for sentence in sentences:\n",
    "    sentence = json.dumps({\"inputText\": sentence})\n",
    "    query_response = get_embedding(body=sentence, modelId='amazon.titan-e1t-medium', accept='application/json', contentType='application/json')\n",
    "    embeddings.append(query_response)\n",
    "    \n",
    "embeddings = normalize(np.array(embeddings), axis=1)  # normalization before inner product\n",
    "plot_similarity_heatmap(sentences, embeddings, 90)"
   ]
  },
  {
   "cell_type": "code",
   "execution_count": 46,
   "id": "64dfa97e",
   "metadata": {},
   "outputs": [
    {
     "name": "stdout",
     "output_type": "stream",
     "text": [
      "Hello, Alice! {age} years old.\n"
     ]
    }
   ],
   "source": [
    "name = \"Alice\"\n",
    "age = 25\n",
    "\n",
    "# Skipping curly braces in f-string\n",
    "print(f\"Hello, {name}! {{age}} years old.\")  # Output: Hello, Alice! {age} years old.\n"
   ]
  },
  {
   "cell_type": "code",
   "execution_count": 55,
   "id": "f2a5db39",
   "metadata": {},
   "outputs": [
    {
     "name": "stdout",
     "output_type": "stream",
     "text": [
      "This is a \\\"test\\\" string\\! With special characters\\: \\$\\, \\%\\, \\@\\, \\#\\, etc\\.\n"
     ]
    }
   ],
   "source": [
    "import re\n",
    "def add_skip_character_to_special_chars(text, skip_char):\n",
    "    special_chars = r'([^a-zA-Z0-9\\s])'  # Regular expression pattern for special characters\n",
    "    return re.sub(special_chars, f'{skip_char}\\\\1', text)\n",
    "\n",
    "# Example usage:\n",
    "text = 'This is a \"test\" string! With special characters: $, %, @, #, etc.'\n",
    "result = add_skip_character_to_special_chars(text, \"\\\\\")\n",
    "print(result)"
   ]
  },
  {
   "cell_type": "code",
   "execution_count": null,
   "metadata": {},
   "outputs": [
    {
     "name": "stdout",
     "output_type": "stream",
     "text": [
      "This is a \\\"test\\\" string\\! With special characters\\: \\$\\, \\%\\, \\@\\, \\#\\, etc\\.\n"
     ]
    }
   ],
   "source": [
    "import re\n",
    "def add_skip_character_to_special_chars(text, skip_char):\n",
    "    special_chars = r'([^a-zA-Z0-9\\s])'  # Regular expression pattern for special characters\n",
    "    return re.sub(special_chars, lambda match: f'{skip_char}{match.group(1)}', text)\n",
    "\n",
    "\n",
    "# Example usage:\n",
    "text = 'This is a \"test\" string! With special characters: $, %, @, #, etc.'\n",
    "result = add_skip_character_to_special_chars(text, \"\\\\\")\n",
    "print(result)"
   ]
  },
  {
   "cell_type": "code",
   "execution_count": 56,
   "id": "1335124c",
   "metadata": {},
   "outputs": [
    {
     "name": "stdout",
     "output_type": "stream",
     "text": [
      "\\,\n"
     ]
    }
   ],
   "source": [
    "print(\"\\,\")"
   ]
  },
  {
   "cell_type": "code",
   "execution_count": 68,
   "id": "d95ac994",
   "metadata": {},
   "outputs": [
    {
     "ename": "SyntaxError",
     "evalue": "invalid syntax (2259318219.py, line 1)",
     "output_type": "error",
     "traceback": [
      "\u001b[1;36m  Cell \u001b[1;32mIn[68], line 1\u001b[1;36m\u001b[0m\n\u001b[1;33m    input_message = \"you are providing documentation and typing (type hints) of             code to be used in sphinx,            provide the typing imports in different code snippet, as an example for this request         ```python\\\\ def sum(a,b): if not isinstance(a, (int, float)) or not isinstance(b, (int, float)): raise TypeError(\"Both parameters must be numeric values.\") return a+b ``` this is a proper response: ```python from typing import Union def sum(a: Union[int, float], b: Union[int, float]) -> Union[int, float]: \\\\\"\\\\\"\\\\\" Returns the sum of two numbers. Args: a (int or float): The first number. b (int or float): The second number. Returns: int or float: The sum of `a` and `b`. Raises: TypeError: If `a` or `b` is not a numeric value. Examples: >>> sum(2, 3) 5 >>> sum(4.5, 2.5) 7.0 \\\\\"\\\\\"\\\\\" if not isinstance(a, (int, float)) or not isinstance(b, (int, float)): raise TypeError(\"Both parameters must be numeric values.\") return a + b provide sphinx docstring documentation and typehints for     def __init__(\\n        self,\\n        source_df: DataFrame,\\n        spark_context: SparkSession,\\n        config_path: str,\\n        file_name: str,\\n        src_system: str,\\n    ) -> None:\\n        \"\"\"\\n        Initializes the DataCheck class.\\n\\n        Args:\\n            source_df (DataFrame): The source DataFrame to be checked.\\n            spark_context (SparkSession): The SparkSession object.\\n            config_path (str): The path to the configuration file.\\n            file_name (str): The name of the file to be checked.\\n            src_system (str): The source system identifier.\\n\\n        Attributes:\\n            spark (SparkSession): The SparkSession object.\\n            source_df (DataFrame): The source DataFrame to be checked.\\n            error_df (DataFrame): The DataFrame containing errors.\\n            error_columns (List[str]): The list of error columns.\\n            error_counter (int): The error counter.\\n            schema_dict (Dict[str, type]): The dictionary of schema types.\\n            s3_client (boto3.client): The S3 client object.\\n            s3_resource (boto3.resource): The S3 resource object.\\n            config (Dict): The configuration dictionary.\\n            rule_df (pd.DataFrame): The DataFrame containing data quality rules.\\n            file_name (str): The name of the file to be checked.\\n            input_columns (List[str]): The list of input columns.\\n            output_columns (str): The output columns.\\n            sns_message (List[str]): The list of SNS messages.\\n        \"\"\"\\n        self.spark = spark_context\\n        self.source_df = source_df\\n        self.error_df = None\\n        self.error_columns = []\\n        self.error_counter = 0\\n        self.schema_dict = {\\n            \"StringType\": StringType,\\n            \"DateType\": DateType,\\n            \"IntegerType\": IntegerType,\\n            \"FloatType\": FloatType,\\n            \"DoubleType\": DoubleType,\\n        }\\n        self.s3_client = boto3.client(\"s3\")\\n        self.s3_resource = boto3.resource(\"s3\")\\n\\n        # Initial configuration\\n        config_content = self.read_s3_file(config_path).decode()\\n        self.config = self.resolve_config(config_path.replace(\"config.json\", \"env.json\"), json.loads(config_content))\\n\\n        dq_rule_path = self.config[src_system][\"dq_rule_path\"]\\n        # dq_rule_content = self.read_s3_file(dq_rule_path)\\n        self.rule_df = pd.read_csv(dq_rule_path, index_col=\"column_name\")\\n        self.file_name = file_name\\n        self.rule_df = self.rule_df[(self.rule_df[\"file_name\"] == self.file_name)]\\n        self.rule_df = self.rule_df.applymap(lambda x: x or np.nan)\\n        self.rule_df.sort_index(inplace=True)\\n        self.sns_message = []\\n\\n        self.input_columns = self.source_df.columns\\n        try:\\n            self.output_columns = self.config[src_system][\"sources\"][self.file_name][\"dq_output_columns\"]\\n        except Exception:\\n            self.output_columns= \\'Patient Number\\'\\n        for index in range(len(self.input_columns)):\\n            if \".\" in self.input_columns[index]:\\n                self.input_columns[index] = \"`\" + self.input_columns[index] + \"`\"\\n\\n        missed_columns = set(self.input_columns) - set(self.rule_df.index)\\n        if len(missed_columns) > 0:\\n            logger.warning(f\"[{missed_columns}] are not found in the rule file.\")\\n\\n        self.spark.conf.set(\"spark.sql.legacy.timeParserPolicy\", \"LEGACY\")\\n        # self.spark.conf.set(\"spark.sql.legacy.timeParserPolicy\", \"CORRECTED\")\\n        self.spark.conf.set(\"spark.sql.adaptive.enabled\", True)\\n        self.spark.conf.set(\"spark.sql.adaptive.coalescePartitions.enabled\", True)\\n inDataCheckclass,                do not provide any other imports that are not used in typing and do not provide multiple options, just one code,                if it is a method in a class, do not provide any other code but the method itself and imports\"\u001b[0m\n\u001b[1;37m                                                                                                                                                                                                                                                                                                                                                 ^\u001b[0m\n\u001b[1;31mSyntaxError\u001b[0m\u001b[1;31m:\u001b[0m invalid syntax\n"
     ]
    }
   ],
   "source": [
    "input_message = \"you are providing documentation and typing (type hints) of             code to be used in sphinx,            provide the typing imports in different code snippet, as an example for this request         ```python\\\\ def sum(a,b): if not isinstance(a, (int, float)) or not isinstance(b, (int, float)): raise TypeError(\"Both parameters must be numeric values.\") return a+b ``` this is a proper response: ```python from typing import Union def sum(a: Union[int, float], b: Union[int, float]) -> Union[int, float]: \\\\\"\\\\\"\\\\\" Returns the sum of two numbers. Args: a (int or float): The first number. b (int or float): The second number. Returns: int or float: The sum of `a` and `b`. Raises: TypeError: If `a` or `b` is not a numeric value. Examples: >>> sum(2, 3) 5 >>> sum(4.5, 2.5) 7.0 \\\\\"\\\\\"\\\\\" if not isinstance(a, (int, float)) or not isinstance(b, (int, float)): raise TypeError(\"Both parameters must be numeric values.\") return a + b provide sphinx docstring documentation and typehints for     def __init__(\\n        self,\\n        source_df: DataFrame,\\n        spark_context: SparkSession,\\n        config_path: str,\\n        file_name: str,\\n        src_system: str,\\n    ) -> None:\\n        \"\"\"\\n        Initializes the DataCheck class.\\n\\n        Args:\\n            source_df (DataFrame): The source DataFrame to be checked.\\n            spark_context (SparkSession): The SparkSession object.\\n            config_path (str): The path to the configuration file.\\n            file_name (str): The name of the file to be checked.\\n            src_system (str): The source system identifier.\\n\\n        Attributes:\\n            spark (SparkSession): The SparkSession object.\\n            source_df (DataFrame): The source DataFrame to be checked.\\n            error_df (DataFrame): The DataFrame containing errors.\\n            error_columns (List[str]): The list of error columns.\\n            error_counter (int): The error counter.\\n            schema_dict (Dict[str, type]): The dictionary of schema types.\\n            s3_client (boto3.client): The S3 client object.\\n            s3_resource (boto3.resource): The S3 resource object.\\n            config (Dict): The configuration dictionary.\\n            rule_df (pd.DataFrame): The DataFrame containing data quality rules.\\n            file_name (str): The name of the file to be checked.\\n            input_columns (List[str]): The list of input columns.\\n            output_columns (str): The output columns.\\n            sns_message (List[str]): The list of SNS messages.\\n        \"\"\"\\n        self.spark = spark_context\\n        self.source_df = source_df\\n        self.error_df = None\\n        self.error_columns = []\\n        self.error_counter = 0\\n        self.schema_dict = {\\n            \"StringType\": StringType,\\n            \"DateType\": DateType,\\n            \"IntegerType\": IntegerType,\\n            \"FloatType\": FloatType,\\n            \"DoubleType\": DoubleType,\\n        }\\n        self.s3_client = boto3.client(\"s3\")\\n        self.s3_resource = boto3.resource(\"s3\")\\n\\n        # Initial configuration\\n        config_content = self.read_s3_file(config_path).decode()\\n        self.config = self.resolve_config(config_path.replace(\"config.json\", \"env.json\"), json.loads(config_content))\\n\\n        dq_rule_path = self.config[src_system][\"dq_rule_path\"]\\n        # dq_rule_content = self.read_s3_file(dq_rule_path)\\n        self.rule_df = pd.read_csv(dq_rule_path, index_col=\"column_name\")\\n        self.file_name = file_name\\n        self.rule_df = self.rule_df[(self.rule_df[\"file_name\"] == self.file_name)]\\n        self.rule_df = self.rule_df.applymap(lambda x: x or np.nan)\\n        self.rule_df.sort_index(inplace=True)\\n        self.sns_message = []\\n\\n        self.input_columns = self.source_df.columns\\n        try:\\n            self.output_columns = self.config[src_system][\"sources\"][self.file_name][\"dq_output_columns\"]\\n        except Exception:\\n            self.output_columns= \\'Patient Number\\'\\n        for index in range(len(self.input_columns)):\\n            if \".\" in self.input_columns[index]:\\n                self.input_columns[index] = \"`\" + self.input_columns[index] + \"`\"\\n\\n        missed_columns = set(self.input_columns) - set(self.rule_df.index)\\n        if len(missed_columns) > 0:\\n            logger.warning(f\"[{missed_columns}] are not found in the rule file.\")\\n\\n        self.spark.conf.set(\"spark.sql.legacy.timeParserPolicy\", \"LEGACY\")\\n        # self.spark.conf.set(\"spark.sql.legacy.timeParserPolicy\", \"CORRECTED\")\\n        self.spark.conf.set(\"spark.sql.adaptive.enabled\", True)\\n        self.spark.conf.set(\"spark.sql.adaptive.coalescePartitions.enabled\", True)\\n inDataCheckclass,                do not provide any other imports that are not used in typing and do not provide multiple options, just one code,                if it is a method in a class, do not provide any other code but the method itself and imports\""
   ]
  },
  {
   "cell_type": "code",
   "execution_count": 64,
   "id": "f5adf7a1",
   "metadata": {},
   "outputs": [
    {
     "data": {
      "text/plain": [
       "'Human: you are providing documentation and typing (type hints) of             code to be used in sphinx,            provide the typing imports in different code snippet, as an example for this request         ```python\\\\ def sum(a,b): if not isinstance(a, (int, float)) or not isinstance(b, (int, float)): raise TypeError(\"Both parameters must be numeric values.\") return a+b ``` this is a proper response: ```python from typing import Union def sum(a: Union[int, float], b: Union[int, float]) -> Union[int, float]: \\\\\"\\\\\"\\\\\" Returns the sum of two numbers. Args: a (int or float): The first number. b (int or float): The second number. Returns: int or float: The sum of `a` and `b`. Raises: TypeError: If `a` or `b` is not a numeric value. Examples: >>> sum(2, 3) 5 >>> sum(4.5, 2.5) 7.0 \\\\\"\\\\\"\\\\\" if not isinstance(a, (int, float)) or not isinstance(b, (int, float)): raise TypeError(\"Both parameters must be numeric values.\") return a + b provide sphinx docstring documentation and typehints for     def __init__(\\n        self,\\n        source_df: DataFrame,\\n        spark_context: SparkSession,\\n        config_path: str,\\n        file_name: str,\\n        src_system: str,\\n    ) -> None:\\n        \"\"\"\\n        Initializes the DataCheck class.\\n\\n        Args:\\n            source_df (DataFrame): The source DataFrame to be checked.\\n            spark_context (SparkSession): The SparkSession object.\\n            config_path (str): The path to the configuration file.\\n            file_name (str): The name of the file to be checked.\\n            src_system (str): The source system identifier.\\n\\n        Attributes:\\n            spark (SparkSession): The SparkSession object.\\n            source_df (DataFrame): The source DataFrame to be checked.\\n            error_df (DataFrame): The DataFrame containing errors.\\n            error_columns (List[str]): The list of error columns.\\n            error_counter (int): The error counter.\\n            schema_dict (Dict[str, type]): The dictionary of schema types.\\n            s3_client (boto3.client): The S3 client object.\\n            s3_resource (boto3.resource): The S3 resource object.\\n            config (Dict): The configuration dictionary.\\n            rule_df (pd.DataFrame): The DataFrame containing data quality rules.\\n            file_name (str): The name of the file to be checked.\\n            input_columns (List[str]): The list of input columns.\\n            output_columns (str): The output columns.\\n            sns_message (List[str]): The list of SNS messages.\\n        \"\"\"\\n        self.spark = spark_context\\n        self.source_df = source_df\\n        self.error_df = None\\n        self.error_columns = []\\n        self.error_counter = 0\\n        self.schema_dict = {\\n            \"StringType\": StringType,\\n            \"DateType\": DateType,\\n            \"IntegerType\": IntegerType,\\n            \"FloatType\": FloatType,\\n            \"DoubleType\": DoubleType,\\n        }\\n        self.s3_client = boto3.client(\"s3\")\\n        self.s3_resource = boto3.resource(\"s3\")\\n\\n        # Initial configuration\\n        config_content = self.read_s3_file(config_path).decode()\\n        self.config = self.resolve_config(config_path.replace(\"config.json\", \"env.json\"), json.loads(config_content))\\n\\n        dq_rule_path = self.config[src_system][\"dq_rule_path\"]\\n        # dq_rule_content = self.read_s3_file(dq_rule_path)\\n        self.rule_df = pd.read_csv(dq_rule_path, index_col=\"column_name\")\\n        self.file_name = file_name\\n        self.rule_df = self.rule_df[(self.rule_df[\"file_name\"] == self.file_name)]\\n        self.rule_df = self.rule_df.applymap(lambda x: x or np.nan)\\n        self.rule_df.sort_index(inplace=True)\\n        self.sns_message = []\\n\\n        self.input_columns = self.source_df.columns\\n        try:\\n            self.output_columns = self.config[src_system][\"sources\"][self.file_name][\"dq_output_columns\"]\\n        except Exception:\\n            self.output_columns= \\'Patient Number\\'\\n        for index in range(len(self.input_columns)):\\n            if \".\" in self.input_columns[index]:\\n                self.input_columns[index] = \"`\" + self.input_columns[index] + \"`\"\\n\\n        missed_columns = set(self.input_columns) - set(self.rule_df.index)\\n        if len(missed_columns) > 0:\\n            logger.warning(f\"[{missed_columns}] are not found in the rule file.\")\\n\\n        self.spark.conf.set(\"spark.sql.legacy.timeParserPolicy\", \"LEGACY\")\\n        # self.spark.conf.set(\"spark.sql.legacy.timeParserPolicy\", \"CORRECTED\")\\n        self.spark.conf.set(\"spark.sql.adaptive.enabled\", True)\\n        self.spark.conf.set(\"spark.sql.adaptive.coalescePartitions.enabled\", True)\\n inDataCheckclass,                do not provide any other imports that are not used in typing and do not provide multiple options, just one code,                if it is a method in a class, do not provide any other code but the method itself and imports\\\\n\\\\n Assistant:\",\"max_tokens_to_sample\":2048,\"temperature\":1,\"top_k\":250,\"top_p\":0.999,\"anthropic_version\":\"bedrock-2023-05-31\"'"
      ]
     },
     "execution_count": 64,
     "metadata": {},
     "output_type": "execute_result"
    }
   ],
   "source": [
    "{\n",
    "  \"modelId\": \"anthropic.claude-v1\",\n",
    "  \"contentType\": \"application/json\",\n",
    "  \"accept\": \"*/*\",\n",
    "  \"body\": f\"{{\\\"prompt\\\":\\\"Human: \\\\\\ {input_message} \\\\\\\"\\\\n\\\\nAssistant:\\\",\\\"max_tokens_to_sample\\\":2048,\\\"temperature\\\":1,\\\"top_k\\\":250,\\\"top_p\\\":0.999,\\\"stop_sequences\\\":[],\\\"anthropic_version\\\":\\\"bedrock-2023-05-31\\\"}}\"\n",
    "}"
   ]
  },
  {
   "cell_type": "code",
   "execution_count": 67,
   "id": "3ccde3da",
   "metadata": {},
   "outputs": [
    {
     "ename": "NameError",
     "evalue": "name 'input_message' is not defined",
     "output_type": "error",
     "traceback": [
      "\u001b[1;31m---------------------------------------------------------------------------\u001b[0m",
      "\u001b[1;31mNameError\u001b[0m                                 Traceback (most recent call last)",
      "Cell \u001b[1;32mIn[67], line 1\u001b[0m\n\u001b[1;32m----> 1\u001b[0m body \u001b[39m=\u001b[39m json\u001b[39m.\u001b[39mdumps({\u001b[39m\"\u001b[39m\u001b[39mprompt\u001b[39m\u001b[39m\"\u001b[39m: \u001b[39mf\u001b[39m\u001b[39m\"\u001b[39m\u001b[39m{{\u001b[39;00m\u001b[39m\\\"\u001b[39;00m\u001b[39mprompt\u001b[39m\u001b[39m\\\"\u001b[39;00m\u001b[39m:\u001b[39m\u001b[39m\\\"\u001b[39;00m\u001b[39mHuman: \u001b[39m\u001b[39m\\\\\u001b[39;00m\u001b[39m\\\u001b[39m\u001b[39m \u001b[39m\u001b[39m{\u001b[39;00minput_message\u001b[39m}\u001b[39;00m\u001b[39m \u001b[39m\u001b[39m\\\\\u001b[39;00m\u001b[39m\\\"\u001b[39;00m\u001b[39m\\\\\u001b[39;00m\u001b[39mn\u001b[39m\u001b[39m\\\\\u001b[39;00m\u001b[39mnAssistant:\u001b[39m\u001b[39m\\\"\u001b[39;00m\u001b[39m,\u001b[39m\u001b[39m\\\"\u001b[39;00m\u001b[39mmax_tokens_to_sample\u001b[39m\u001b[39m\\\"\u001b[39;00m\u001b[39m:2048,\u001b[39m\u001b[39m\\\"\u001b[39;00m\u001b[39mtemperature\u001b[39m\u001b[39m\\\"\u001b[39;00m\u001b[39m:1,\u001b[39m\u001b[39m\\\"\u001b[39;00m\u001b[39mtop_k\u001b[39m\u001b[39m\\\"\u001b[39;00m\u001b[39m:250,\u001b[39m\u001b[39m\\\"\u001b[39;00m\u001b[39mtop_p\u001b[39m\u001b[39m\\\"\u001b[39;00m\u001b[39m:0.999,\u001b[39m\u001b[39m\\\"\u001b[39;00m\u001b[39mstop_sequences\u001b[39m\u001b[39m\\\"\u001b[39;00m\u001b[39m:[],\u001b[39m\u001b[39m\\\"\u001b[39;00m\u001b[39manthropic_version\u001b[39m\u001b[39m\\\"\u001b[39;00m\u001b[39m:\u001b[39m\u001b[39m\\\"\u001b[39;00m\u001b[39mbedrock-2023-05-31\u001b[39m\u001b[39m\\\"\u001b[39;00m\u001b[39m}}\u001b[39;00m\u001b[39m\"\u001b[39m})\n\u001b[0;32m      2\u001b[0m modelId \u001b[39m=\u001b[39m \u001b[39m'\u001b[39m\u001b[39manthropic.claude-v1\u001b[39m\u001b[39m'\u001b[39m \u001b[39m# change this to use a different version from the model provider\u001b[39;00m\n\u001b[0;32m      3\u001b[0m accept \u001b[39m=\u001b[39m \u001b[39m'\u001b[39m\u001b[39mapplication/json\u001b[39m\u001b[39m'\u001b[39m\n",
      "\u001b[1;31mNameError\u001b[0m: name 'input_message' is not defined"
     ]
    }
   ],
   "source": [
    "body = json.dumps({\"prompt\": f\"{{\\\"prompt\\\":\\\"Human: \\\\\\ {input_message} \\\\\\\"\\\\n\\\\nAssistant:\\\",\\\"max_tokens_to_sample\\\":2048,\\\"temperature\\\":1,\\\"top_k\\\":250,\\\"top_p\\\":0.999,\\\"stop_sequences\\\":[],\\\"anthropic_version\\\":\\\"bedrock-2023-05-31\\\"}}\"})\n",
    "modelId = 'anthropic.claude-v1' # change this to use a different version from the model provider\n",
    "accept = 'application/json'\n",
    "contentType = 'application/json'\n",
    "bedrock_api_output = bedrock.invoke_model(body=body, modelId=modelId, accept=accept, contentType=contentType)"
   ]
  },
  {
   "cell_type": "code",
   "execution_count": null,
   "id": "6bfa2e78",
   "metadata": {},
   "outputs": [],
   "source": []
  }
 ],
 "metadata": {
  "availableInstances": [
   {
    "_defaultOrder": 0,
    "_isFastLaunch": true,
    "category": "General purpose",
    "gpuNum": 0,
    "hideHardwareSpecs": false,
    "memoryGiB": 4,
    "name": "ml.t3.medium",
    "vcpuNum": 2
   },
   {
    "_defaultOrder": 1,
    "_isFastLaunch": false,
    "category": "General purpose",
    "gpuNum": 0,
    "hideHardwareSpecs": false,
    "memoryGiB": 8,
    "name": "ml.t3.large",
    "vcpuNum": 2
   },
   {
    "_defaultOrder": 2,
    "_isFastLaunch": false,
    "category": "General purpose",
    "gpuNum": 0,
    "hideHardwareSpecs": false,
    "memoryGiB": 16,
    "name": "ml.t3.xlarge",
    "vcpuNum": 4
   },
   {
    "_defaultOrder": 3,
    "_isFastLaunch": false,
    "category": "General purpose",
    "gpuNum": 0,
    "hideHardwareSpecs": false,
    "memoryGiB": 32,
    "name": "ml.t3.2xlarge",
    "vcpuNum": 8
   },
   {
    "_defaultOrder": 4,
    "_isFastLaunch": true,
    "category": "General purpose",
    "gpuNum": 0,
    "hideHardwareSpecs": false,
    "memoryGiB": 8,
    "name": "ml.m5.large",
    "vcpuNum": 2
   },
   {
    "_defaultOrder": 5,
    "_isFastLaunch": false,
    "category": "General purpose",
    "gpuNum": 0,
    "hideHardwareSpecs": false,
    "memoryGiB": 16,
    "name": "ml.m5.xlarge",
    "vcpuNum": 4
   },
   {
    "_defaultOrder": 6,
    "_isFastLaunch": false,
    "category": "General purpose",
    "gpuNum": 0,
    "hideHardwareSpecs": false,
    "memoryGiB": 32,
    "name": "ml.m5.2xlarge",
    "vcpuNum": 8
   },
   {
    "_defaultOrder": 7,
    "_isFastLaunch": false,
    "category": "General purpose",
    "gpuNum": 0,
    "hideHardwareSpecs": false,
    "memoryGiB": 64,
    "name": "ml.m5.4xlarge",
    "vcpuNum": 16
   },
   {
    "_defaultOrder": 8,
    "_isFastLaunch": false,
    "category": "General purpose",
    "gpuNum": 0,
    "hideHardwareSpecs": false,
    "memoryGiB": 128,
    "name": "ml.m5.8xlarge",
    "vcpuNum": 32
   },
   {
    "_defaultOrder": 9,
    "_isFastLaunch": false,
    "category": "General purpose",
    "gpuNum": 0,
    "hideHardwareSpecs": false,
    "memoryGiB": 192,
    "name": "ml.m5.12xlarge",
    "vcpuNum": 48
   },
   {
    "_defaultOrder": 10,
    "_isFastLaunch": false,
    "category": "General purpose",
    "gpuNum": 0,
    "hideHardwareSpecs": false,
    "memoryGiB": 256,
    "name": "ml.m5.16xlarge",
    "vcpuNum": 64
   },
   {
    "_defaultOrder": 11,
    "_isFastLaunch": false,
    "category": "General purpose",
    "gpuNum": 0,
    "hideHardwareSpecs": false,
    "memoryGiB": 384,
    "name": "ml.m5.24xlarge",
    "vcpuNum": 96
   },
   {
    "_defaultOrder": 12,
    "_isFastLaunch": false,
    "category": "General purpose",
    "gpuNum": 0,
    "hideHardwareSpecs": false,
    "memoryGiB": 8,
    "name": "ml.m5d.large",
    "vcpuNum": 2
   },
   {
    "_defaultOrder": 13,
    "_isFastLaunch": false,
    "category": "General purpose",
    "gpuNum": 0,
    "hideHardwareSpecs": false,
    "memoryGiB": 16,
    "name": "ml.m5d.xlarge",
    "vcpuNum": 4
   },
   {
    "_defaultOrder": 14,
    "_isFastLaunch": false,
    "category": "General purpose",
    "gpuNum": 0,
    "hideHardwareSpecs": false,
    "memoryGiB": 32,
    "name": "ml.m5d.2xlarge",
    "vcpuNum": 8
   },
   {
    "_defaultOrder": 15,
    "_isFastLaunch": false,
    "category": "General purpose",
    "gpuNum": 0,
    "hideHardwareSpecs": false,
    "memoryGiB": 64,
    "name": "ml.m5d.4xlarge",
    "vcpuNum": 16
   },
   {
    "_defaultOrder": 16,
    "_isFastLaunch": false,
    "category": "General purpose",
    "gpuNum": 0,
    "hideHardwareSpecs": false,
    "memoryGiB": 128,
    "name": "ml.m5d.8xlarge",
    "vcpuNum": 32
   },
   {
    "_defaultOrder": 17,
    "_isFastLaunch": false,
    "category": "General purpose",
    "gpuNum": 0,
    "hideHardwareSpecs": false,
    "memoryGiB": 192,
    "name": "ml.m5d.12xlarge",
    "vcpuNum": 48
   },
   {
    "_defaultOrder": 18,
    "_isFastLaunch": false,
    "category": "General purpose",
    "gpuNum": 0,
    "hideHardwareSpecs": false,
    "memoryGiB": 256,
    "name": "ml.m5d.16xlarge",
    "vcpuNum": 64
   },
   {
    "_defaultOrder": 19,
    "_isFastLaunch": false,
    "category": "General purpose",
    "gpuNum": 0,
    "hideHardwareSpecs": false,
    "memoryGiB": 384,
    "name": "ml.m5d.24xlarge",
    "vcpuNum": 96
   },
   {
    "_defaultOrder": 20,
    "_isFastLaunch": false,
    "category": "General purpose",
    "gpuNum": 0,
    "hideHardwareSpecs": true,
    "memoryGiB": 0,
    "name": "ml.geospatial.interactive",
    "supportedImageNames": [
     "sagemaker-geospatial-v1-0"
    ],
    "vcpuNum": 0
   },
   {
    "_defaultOrder": 21,
    "_isFastLaunch": true,
    "category": "Compute optimized",
    "gpuNum": 0,
    "hideHardwareSpecs": false,
    "memoryGiB": 4,
    "name": "ml.c5.large",
    "vcpuNum": 2
   },
   {
    "_defaultOrder": 22,
    "_isFastLaunch": false,
    "category": "Compute optimized",
    "gpuNum": 0,
    "hideHardwareSpecs": false,
    "memoryGiB": 8,
    "name": "ml.c5.xlarge",
    "vcpuNum": 4
   },
   {
    "_defaultOrder": 23,
    "_isFastLaunch": false,
    "category": "Compute optimized",
    "gpuNum": 0,
    "hideHardwareSpecs": false,
    "memoryGiB": 16,
    "name": "ml.c5.2xlarge",
    "vcpuNum": 8
   },
   {
    "_defaultOrder": 24,
    "_isFastLaunch": false,
    "category": "Compute optimized",
    "gpuNum": 0,
    "hideHardwareSpecs": false,
    "memoryGiB": 32,
    "name": "ml.c5.4xlarge",
    "vcpuNum": 16
   },
   {
    "_defaultOrder": 25,
    "_isFastLaunch": false,
    "category": "Compute optimized",
    "gpuNum": 0,
    "hideHardwareSpecs": false,
    "memoryGiB": 72,
    "name": "ml.c5.9xlarge",
    "vcpuNum": 36
   },
   {
    "_defaultOrder": 26,
    "_isFastLaunch": false,
    "category": "Compute optimized",
    "gpuNum": 0,
    "hideHardwareSpecs": false,
    "memoryGiB": 96,
    "name": "ml.c5.12xlarge",
    "vcpuNum": 48
   },
   {
    "_defaultOrder": 27,
    "_isFastLaunch": false,
    "category": "Compute optimized",
    "gpuNum": 0,
    "hideHardwareSpecs": false,
    "memoryGiB": 144,
    "name": "ml.c5.18xlarge",
    "vcpuNum": 72
   },
   {
    "_defaultOrder": 28,
    "_isFastLaunch": false,
    "category": "Compute optimized",
    "gpuNum": 0,
    "hideHardwareSpecs": false,
    "memoryGiB": 192,
    "name": "ml.c5.24xlarge",
    "vcpuNum": 96
   },
   {
    "_defaultOrder": 29,
    "_isFastLaunch": true,
    "category": "Accelerated computing",
    "gpuNum": 1,
    "hideHardwareSpecs": false,
    "memoryGiB": 16,
    "name": "ml.g4dn.xlarge",
    "vcpuNum": 4
   },
   {
    "_defaultOrder": 30,
    "_isFastLaunch": false,
    "category": "Accelerated computing",
    "gpuNum": 1,
    "hideHardwareSpecs": false,
    "memoryGiB": 32,
    "name": "ml.g4dn.2xlarge",
    "vcpuNum": 8
   },
   {
    "_defaultOrder": 31,
    "_isFastLaunch": false,
    "category": "Accelerated computing",
    "gpuNum": 1,
    "hideHardwareSpecs": false,
    "memoryGiB": 64,
    "name": "ml.g4dn.4xlarge",
    "vcpuNum": 16
   },
   {
    "_defaultOrder": 32,
    "_isFastLaunch": false,
    "category": "Accelerated computing",
    "gpuNum": 1,
    "hideHardwareSpecs": false,
    "memoryGiB": 128,
    "name": "ml.g4dn.8xlarge",
    "vcpuNum": 32
   },
   {
    "_defaultOrder": 33,
    "_isFastLaunch": false,
    "category": "Accelerated computing",
    "gpuNum": 4,
    "hideHardwareSpecs": false,
    "memoryGiB": 192,
    "name": "ml.g4dn.12xlarge",
    "vcpuNum": 48
   },
   {
    "_defaultOrder": 34,
    "_isFastLaunch": false,
    "category": "Accelerated computing",
    "gpuNum": 1,
    "hideHardwareSpecs": false,
    "memoryGiB": 256,
    "name": "ml.g4dn.16xlarge",
    "vcpuNum": 64
   },
   {
    "_defaultOrder": 35,
    "_isFastLaunch": false,
    "category": "Accelerated computing",
    "gpuNum": 1,
    "hideHardwareSpecs": false,
    "memoryGiB": 61,
    "name": "ml.p3.2xlarge",
    "vcpuNum": 8
   },
   {
    "_defaultOrder": 36,
    "_isFastLaunch": false,
    "category": "Accelerated computing",
    "gpuNum": 4,
    "hideHardwareSpecs": false,
    "memoryGiB": 244,
    "name": "ml.p3.8xlarge",
    "vcpuNum": 32
   },
   {
    "_defaultOrder": 37,
    "_isFastLaunch": false,
    "category": "Accelerated computing",
    "gpuNum": 8,
    "hideHardwareSpecs": false,
    "memoryGiB": 488,
    "name": "ml.p3.16xlarge",
    "vcpuNum": 64
   },
   {
    "_defaultOrder": 38,
    "_isFastLaunch": false,
    "category": "Accelerated computing",
    "gpuNum": 8,
    "hideHardwareSpecs": false,
    "memoryGiB": 768,
    "name": "ml.p3dn.24xlarge",
    "vcpuNum": 96
   },
   {
    "_defaultOrder": 39,
    "_isFastLaunch": false,
    "category": "Memory Optimized",
    "gpuNum": 0,
    "hideHardwareSpecs": false,
    "memoryGiB": 16,
    "name": "ml.r5.large",
    "vcpuNum": 2
   },
   {
    "_defaultOrder": 40,
    "_isFastLaunch": false,
    "category": "Memory Optimized",
    "gpuNum": 0,
    "hideHardwareSpecs": false,
    "memoryGiB": 32,
    "name": "ml.r5.xlarge",
    "vcpuNum": 4
   },
   {
    "_defaultOrder": 41,
    "_isFastLaunch": false,
    "category": "Memory Optimized",
    "gpuNum": 0,
    "hideHardwareSpecs": false,
    "memoryGiB": 64,
    "name": "ml.r5.2xlarge",
    "vcpuNum": 8
   },
   {
    "_defaultOrder": 42,
    "_isFastLaunch": false,
    "category": "Memory Optimized",
    "gpuNum": 0,
    "hideHardwareSpecs": false,
    "memoryGiB": 128,
    "name": "ml.r5.4xlarge",
    "vcpuNum": 16
   },
   {
    "_defaultOrder": 43,
    "_isFastLaunch": false,
    "category": "Memory Optimized",
    "gpuNum": 0,
    "hideHardwareSpecs": false,
    "memoryGiB": 256,
    "name": "ml.r5.8xlarge",
    "vcpuNum": 32
   },
   {
    "_defaultOrder": 44,
    "_isFastLaunch": false,
    "category": "Memory Optimized",
    "gpuNum": 0,
    "hideHardwareSpecs": false,
    "memoryGiB": 384,
    "name": "ml.r5.12xlarge",
    "vcpuNum": 48
   },
   {
    "_defaultOrder": 45,
    "_isFastLaunch": false,
    "category": "Memory Optimized",
    "gpuNum": 0,
    "hideHardwareSpecs": false,
    "memoryGiB": 512,
    "name": "ml.r5.16xlarge",
    "vcpuNum": 64
   },
   {
    "_defaultOrder": 46,
    "_isFastLaunch": false,
    "category": "Memory Optimized",
    "gpuNum": 0,
    "hideHardwareSpecs": false,
    "memoryGiB": 768,
    "name": "ml.r5.24xlarge",
    "vcpuNum": 96
   },
   {
    "_defaultOrder": 47,
    "_isFastLaunch": false,
    "category": "Accelerated computing",
    "gpuNum": 1,
    "hideHardwareSpecs": false,
    "memoryGiB": 16,
    "name": "ml.g5.xlarge",
    "vcpuNum": 4
   },
   {
    "_defaultOrder": 48,
    "_isFastLaunch": false,
    "category": "Accelerated computing",
    "gpuNum": 1,
    "hideHardwareSpecs": false,
    "memoryGiB": 32,
    "name": "ml.g5.2xlarge",
    "vcpuNum": 8
   },
   {
    "_defaultOrder": 49,
    "_isFastLaunch": false,
    "category": "Accelerated computing",
    "gpuNum": 1,
    "hideHardwareSpecs": false,
    "memoryGiB": 64,
    "name": "ml.g5.4xlarge",
    "vcpuNum": 16
   },
   {
    "_defaultOrder": 50,
    "_isFastLaunch": false,
    "category": "Accelerated computing",
    "gpuNum": 1,
    "hideHardwareSpecs": false,
    "memoryGiB": 128,
    "name": "ml.g5.8xlarge",
    "vcpuNum": 32
   },
   {
    "_defaultOrder": 51,
    "_isFastLaunch": false,
    "category": "Accelerated computing",
    "gpuNum": 1,
    "hideHardwareSpecs": false,
    "memoryGiB": 256,
    "name": "ml.g5.16xlarge",
    "vcpuNum": 64
   },
   {
    "_defaultOrder": 52,
    "_isFastLaunch": false,
    "category": "Accelerated computing",
    "gpuNum": 4,
    "hideHardwareSpecs": false,
    "memoryGiB": 192,
    "name": "ml.g5.12xlarge",
    "vcpuNum": 48
   },
   {
    "_defaultOrder": 53,
    "_isFastLaunch": false,
    "category": "Accelerated computing",
    "gpuNum": 4,
    "hideHardwareSpecs": false,
    "memoryGiB": 384,
    "name": "ml.g5.24xlarge",
    "vcpuNum": 96
   },
   {
    "_defaultOrder": 54,
    "_isFastLaunch": false,
    "category": "Accelerated computing",
    "gpuNum": 8,
    "hideHardwareSpecs": false,
    "memoryGiB": 768,
    "name": "ml.g5.48xlarge",
    "vcpuNum": 192
   },
   {
    "_defaultOrder": 55,
    "_isFastLaunch": false,
    "category": "Accelerated computing",
    "gpuNum": 8,
    "hideHardwareSpecs": false,
    "memoryGiB": 1152,
    "name": "ml.p4d.24xlarge",
    "vcpuNum": 96
   },
   {
    "_defaultOrder": 56,
    "_isFastLaunch": false,
    "category": "Accelerated computing",
    "gpuNum": 8,
    "hideHardwareSpecs": false,
    "memoryGiB": 1152,
    "name": "ml.p4de.24xlarge",
    "vcpuNum": 96
   }
  ],
  "instance_type": "ml.t3.medium",
  "kernelspec": {
   "display_name": "Python 3 (ipykernel)",
   "language": "python",
   "name": "python3"
  },
  "language_info": {
   "codemirror_mode": {
    "name": "ipython",
    "version": 3
   },
   "file_extension": ".py",
   "mimetype": "text/x-python",
   "name": "python",
   "nbconvert_exporter": "python",
   "pygments_lexer": "ipython3",
   "version": "3.11.3"
  }
 },
 "nbformat": 4,
 "nbformat_minor": 5
}
